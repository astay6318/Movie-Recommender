{
 "cells": [
  {
   "cell_type": "code",
   "execution_count": 3,
   "id": "e64156eb",
   "metadata": {},
   "outputs": [
    {
     "name": "stdout",
     "output_type": "stream",
     "text": [
      "Requirement already satisfied: pandas in c:\\users\\shive\\documents\\github\\algo\\env\\lib\\site-packages (1.5.2)\n",
      "Requirement already satisfied: numpy>=1.20.3 in c:\\users\\shive\\documents\\github\\algo\\env\\lib\\site-packages (from pandas) (1.24.1)\n",
      "Requirement already satisfied: pytz>=2020.1 in c:\\users\\shive\\documents\\github\\algo\\env\\lib\\site-packages (from pandas) (2022.7)\n",
      "Requirement already satisfied: python-dateutil>=2.8.1 in c:\\users\\shive\\documents\\github\\algo\\env\\lib\\site-packages (from pandas) (2.8.2)\n",
      "Requirement already satisfied: six>=1.5 in c:\\users\\shive\\documents\\github\\algo\\env\\lib\\site-packages (from python-dateutil>=2.8.1->pandas) (1.16.0)\n"
     ]
    },
    {
     "name": "stderr",
     "output_type": "stream",
     "text": [
      "WARNING: You are using pip version 21.2.3; however, version 22.3.1 is available.\n",
      "You should consider upgrading via the 'C:\\Users\\shive\\Documents\\GitHub\\Algo\\env\\Scripts\\python.exe -m pip install --upgrade pip' command.\n"
     ]
    },
    {
     "name": "stdout",
     "output_type": "stream",
     "text": [
      "Requirement already satisfied: numpy in c:\\users\\shive\\documents\\github\\algo\\env\\lib\\site-packages (1.24.1)\n"
     ]
    },
    {
     "name": "stderr",
     "output_type": "stream",
     "text": [
      "WARNING: You are using pip version 21.2.3; however, version 22.3.1 is available.\n",
      "You should consider upgrading via the 'C:\\Users\\shive\\Documents\\GitHub\\Algo\\env\\Scripts\\python.exe -m pip install --upgrade pip' command.\n"
     ]
    },
    {
     "name": "stdout",
     "output_type": "stream",
     "text": [
      "Requirement already satisfied: nltk in c:\\users\\shive\\documents\\github\\algo\\env\\lib\\site-packages (3.8.1)\n",
      "Requirement already satisfied: click in c:\\users\\shive\\documents\\github\\algo\\env\\lib\\site-packages (from nltk) (8.1.3)\n",
      "Requirement already satisfied: regex>=2021.8.3 in c:\\users\\shive\\documents\\github\\algo\\env\\lib\\site-packages (from nltk) (2022.10.31)\n",
      "Requirement already satisfied: tqdm in c:\\users\\shive\\documents\\github\\algo\\env\\lib\\site-packages (from nltk) (4.64.1)\n",
      "Requirement already satisfied: joblib in c:\\users\\shive\\documents\\github\\algo\\env\\lib\\site-packages (from nltk) (1.2.0)\n",
      "Requirement already satisfied: colorama in c:\\users\\shive\\documents\\github\\algo\\env\\lib\\site-packages (from click->nltk) (0.4.6)\n"
     ]
    },
    {
     "name": "stderr",
     "output_type": "stream",
     "text": [
      "WARNING: You are using pip version 21.2.3; however, version 22.3.1 is available.\n",
      "You should consider upgrading via the 'C:\\Users\\shive\\Documents\\GitHub\\Algo\\env\\Scripts\\python.exe -m pip install --upgrade pip' command.\n"
     ]
    },
    {
     "name": "stdout",
     "output_type": "stream",
     "text": [
      "Requirement already satisfied: scikit-surprise in c:\\users\\shive\\documents\\github\\algo\\env\\lib\\site-packages (1.1.3)\n",
      "Requirement already satisfied: joblib>=1.0.0 in c:\\users\\shive\\documents\\github\\algo\\env\\lib\\site-packages (from scikit-surprise) (1.2.0)\n",
      "Requirement already satisfied: numpy>=1.17.3 in c:\\users\\shive\\documents\\github\\algo\\env\\lib\\site-packages (from scikit-surprise) (1.24.1)\n",
      "Requirement already satisfied: scipy>=1.3.2 in c:\\users\\shive\\documents\\github\\algo\\env\\lib\\site-packages (from scikit-surprise) (1.10.0)\n"
     ]
    },
    {
     "name": "stderr",
     "output_type": "stream",
     "text": [
      "WARNING: You are using pip version 21.2.3; however, version 22.3.1 is available.\n",
      "You should consider upgrading via the 'C:\\Users\\shive\\Documents\\GitHub\\Algo\\env\\Scripts\\python.exe -m pip install --upgrade pip' command.\n"
     ]
    },
    {
     "name": "stdout",
     "output_type": "stream",
     "text": [
      "Requirement already satisfied: scikit-learn in c:\\users\\shive\\documents\\github\\algo\\env\\lib\\site-packages (1.2.0)\n",
      "Requirement already satisfied: joblib>=1.1.1 in c:\\users\\shive\\documents\\github\\algo\\env\\lib\\site-packages (from scikit-learn) (1.2.0)\n",
      "Requirement already satisfied: threadpoolctl>=2.0.0 in c:\\users\\shive\\documents\\github\\algo\\env\\lib\\site-packages (from scikit-learn) (3.1.0)\n",
      "Requirement already satisfied: scipy>=1.3.2 in c:\\users\\shive\\documents\\github\\algo\\env\\lib\\site-packages (from scikit-learn) (1.10.0)\n",
      "Requirement already satisfied: numpy>=1.17.3 in c:\\users\\shive\\documents\\github\\algo\\env\\lib\\site-packages (from scikit-learn) (1.24.1)\n"
     ]
    },
    {
     "name": "stderr",
     "output_type": "stream",
     "text": [
      "WARNING: You are using pip version 21.2.3; however, version 22.3.1 is available.\n",
      "You should consider upgrading via the 'C:\\Users\\shive\\Documents\\GitHub\\Algo\\env\\Scripts\\python.exe -m pip install --upgrade pip' command.\n"
     ]
    },
    {
     "name": "stdout",
     "output_type": "stream",
     "text": [
      "Requirement already satisfied: collection in c:\\users\\shive\\documents\\github\\algo\\env\\lib\\site-packages (0.1.6)\n"
     ]
    },
    {
     "name": "stderr",
     "output_type": "stream",
     "text": [
      "WARNING: You are using pip version 21.2.3; however, version 22.3.1 is available.\n",
      "You should consider upgrading via the 'C:\\Users\\shive\\Documents\\GitHub\\Algo\\env\\Scripts\\python.exe -m pip install --upgrade pip' command.\n"
     ]
    },
    {
     "name": "stdout",
     "output_type": "stream",
     "text": [
      "Requirement already satisfied: plotly in c:\\users\\shive\\documents\\github\\algo\\env\\lib\\site-packages (5.11.0)\n",
      "Requirement already satisfied: tenacity>=6.2.0 in c:\\users\\shive\\documents\\github\\algo\\env\\lib\\site-packages (from plotly) (8.1.0)\n"
     ]
    },
    {
     "name": "stderr",
     "output_type": "stream",
     "text": [
      "WARNING: You are using pip version 21.2.3; however, version 22.3.1 is available.\n",
      "You should consider upgrading via the 'C:\\Users\\shive\\Documents\\GitHub\\Algo\\env\\Scripts\\python.exe -m pip install --upgrade pip' command.\n"
     ]
    },
    {
     "name": "stdout",
     "output_type": "stream",
     "text": [
      "Requirement already satisfied: wordcloud in c:\\users\\shive\\documents\\github\\algo\\env\\lib\\site-packages (1.8.2.2)\n",
      "Requirement already satisfied: matplotlib in c:\\users\\shive\\documents\\github\\algo\\env\\lib\\site-packages (from wordcloud) (3.6.2)\n",
      "Requirement already satisfied: numpy>=1.6.1 in c:\\users\\shive\\documents\\github\\algo\\env\\lib\\site-packages (from wordcloud) (1.24.1)\n",
      "Requirement already satisfied: pillow in c:\\users\\shive\\documents\\github\\algo\\env\\lib\\site-packages (from wordcloud) (9.4.0)\n",
      "Requirement already satisfied: fonttools>=4.22.0 in c:\\users\\shive\\documents\\github\\algo\\env\\lib\\site-packages (from matplotlib->wordcloud) (4.38.0)\n",
      "Requirement already satisfied: cycler>=0.10 in c:\\users\\shive\\documents\\github\\algo\\env\\lib\\site-packages (from matplotlib->wordcloud) (0.11.0)\n",
      "Requirement already satisfied: packaging>=20.0 in c:\\users\\shive\\documents\\github\\algo\\env\\lib\\site-packages (from matplotlib->wordcloud) (22.0)\n",
      "Requirement already satisfied: python-dateutil>=2.7 in c:\\users\\shive\\documents\\github\\algo\\env\\lib\\site-packages (from matplotlib->wordcloud) (2.8.2)\n",
      "Requirement already satisfied: pyparsing>=2.2.1 in c:\\users\\shive\\documents\\github\\algo\\env\\lib\\site-packages (from matplotlib->wordcloud) (3.0.9)\n",
      "Requirement already satisfied: kiwisolver>=1.0.1 in c:\\users\\shive\\documents\\github\\algo\\env\\lib\\site-packages (from matplotlib->wordcloud) (1.4.4)\n",
      "Requirement already satisfied: contourpy>=1.0.1 in c:\\users\\shive\\documents\\github\\algo\\env\\lib\\site-packages (from matplotlib->wordcloud) (1.0.6)\n",
      "Requirement already satisfied: six>=1.5 in c:\\users\\shive\\documents\\github\\algo\\env\\lib\\site-packages (from python-dateutil>=2.7->matplotlib->wordcloud) (1.16.0)\n"
     ]
    },
    {
     "name": "stderr",
     "output_type": "stream",
     "text": [
      "WARNING: You are using pip version 21.2.3; however, version 22.3.1 is available.\n",
      "You should consider upgrading via the 'C:\\Users\\shive\\Documents\\GitHub\\Algo\\env\\Scripts\\python.exe -m pip install --upgrade pip' command.\n"
     ]
    },
    {
     "name": "stdout",
     "output_type": "stream",
     "text": [
      "Requirement already satisfied: seaborn in c:\\users\\shive\\documents\\github\\algo\\env\\lib\\site-packages (0.12.2)\n",
      "Requirement already satisfied: matplotlib!=3.6.1,>=3.1 in c:\\users\\shive\\documents\\github\\algo\\env\\lib\\site-packages (from seaborn) (3.6.2)\n",
      "Requirement already satisfied: pandas>=0.25 in c:\\users\\shive\\documents\\github\\algo\\env\\lib\\site-packages (from seaborn) (1.5.2)\n",
      "Requirement already satisfied: numpy!=1.24.0,>=1.17 in c:\\users\\shive\\documents\\github\\algo\\env\\lib\\site-packages (from seaborn) (1.24.1)\n",
      "Requirement already satisfied: pyparsing>=2.2.1 in c:\\users\\shive\\documents\\github\\algo\\env\\lib\\site-packages (from matplotlib!=3.6.1,>=3.1->seaborn) (3.0.9)\n",
      "Requirement already satisfied: fonttools>=4.22.0 in c:\\users\\shive\\documents\\github\\algo\\env\\lib\\site-packages (from matplotlib!=3.6.1,>=3.1->seaborn) (4.38.0)\n",
      "Requirement already satisfied: contourpy>=1.0.1 in c:\\users\\shive\\documents\\github\\algo\\env\\lib\\site-packages (from matplotlib!=3.6.1,>=3.1->seaborn) (1.0.6)\n",
      "Requirement already satisfied: packaging>=20.0 in c:\\users\\shive\\documents\\github\\algo\\env\\lib\\site-packages (from matplotlib!=3.6.1,>=3.1->seaborn) (22.0)\n",
      "Requirement already satisfied: pillow>=6.2.0 in c:\\users\\shive\\documents\\github\\algo\\env\\lib\\site-packages (from matplotlib!=3.6.1,>=3.1->seaborn) (9.4.0)\n",
      "Requirement already satisfied: python-dateutil>=2.7 in c:\\users\\shive\\documents\\github\\algo\\env\\lib\\site-packages (from matplotlib!=3.6.1,>=3.1->seaborn) (2.8.2)\n",
      "Requirement already satisfied: cycler>=0.10 in c:\\users\\shive\\documents\\github\\algo\\env\\lib\\site-packages (from matplotlib!=3.6.1,>=3.1->seaborn) (0.11.0)\n",
      "Requirement already satisfied: kiwisolver>=1.0.1 in c:\\users\\shive\\documents\\github\\algo\\env\\lib\\site-packages (from matplotlib!=3.6.1,>=3.1->seaborn) (1.4.4)\n",
      "Requirement already satisfied: pytz>=2020.1 in c:\\users\\shive\\documents\\github\\algo\\env\\lib\\site-packages (from pandas>=0.25->seaborn) (2022.7)\n",
      "Requirement already satisfied: six>=1.5 in c:\\users\\shive\\documents\\github\\algo\\env\\lib\\site-packages (from python-dateutil>=2.7->matplotlib!=3.6.1,>=3.1->seaborn) (1.16.0)\n"
     ]
    },
    {
     "name": "stderr",
     "output_type": "stream",
     "text": [
      "WARNING: You are using pip version 21.2.3; however, version 22.3.1 is available.\n",
      "You should consider upgrading via the 'C:\\Users\\shive\\Documents\\GitHub\\Algo\\env\\Scripts\\python.exe -m pip install --upgrade pip' command.\n",
      "WARNING: You are using pip version 21.2.3; however, version 22.3.1 is available.\n",
      "You should consider upgrading via the 'C:\\Users\\shive\\Documents\\GitHub\\Algo\\env\\Scripts\\python.exe -m pip install --upgrade pip' command.\n"
     ]
    },
    {
     "name": "stdout",
     "output_type": "stream",
     "text": [
      "Requirement already satisfied: networkx in c:\\users\\shive\\documents\\github\\algo\\env\\lib\\site-packages (3.0)\n"
     ]
    }
   ],
   "source": [
    "# Importing liberaries\n",
    "!pip install pandas\n",
    "!pip install numpy\n",
    "!pip install nltk\n",
    "!pip install scikit-surprise\n",
    "!pip install scikit-learn\n",
    "!pip install collection\n",
    "!pip install plotly\n",
    "!pip install wordcloud\n",
    "!pip install seaborn\n",
    "!pip install networkx\n",
    "import pandas as pd \n",
    "import numpy as np\n",
    "from ast import literal_eval  # evaluate strings containing Python code in the current Python environment\n",
    "from nltk.stem.snowball import SnowballStemmer # Removing stem words\n",
    "from sklearn.feature_extraction.text import CountVectorizer  # To convert text to numerical data\n",
    "from sklearn.metrics.pairwise import linear_kernel, cosine_similarity\n",
    "from surprise import Reader, Dataset, SVD\n",
    "from surprise.model_selection import cross_validate\n",
    "from collections import defaultdict\n",
    "import matplotlib.pyplot as plt\n",
    "import plotly.express as px\n",
    "from wordcloud import WordCloud\n",
    "import seaborn as sns\n",
    "import networkx as nx\n",
    "\n",
    "import warnings  # disable python warnings\n",
    "warnings.filterwarnings(\"ignore\")"
   ]
  },
  {
   "cell_type": "code",
   "execution_count": 4,
   "id": "ebcc436e",
   "metadata": {},
   "outputs": [
    {
     "name": "stdout",
     "output_type": "stream",
     "text": [
      "Requirement already satisfied: ipykernel in c:\\users\\shive\\documents\\github\\algo\\env\\lib\\site-packages (6.19.4)\n",
      "Requirement already satisfied: traitlets>=5.4.0 in c:\\users\\shive\\documents\\github\\algo\\env\\lib\\site-packages (from ipykernel) (5.8.0)\n",
      "Requirement already satisfied: debugpy>=1.0 in c:\\users\\shive\\documents\\github\\algo\\env\\lib\\site-packages (from ipykernel) (1.6.5)\n",
      "Requirement already satisfied: nest-asyncio in c:\\users\\shive\\documents\\github\\algo\\env\\lib\\site-packages (from ipykernel) (1.5.6)\n",
      "Requirement already satisfied: jupyter-client>=6.1.12 in c:\\users\\shive\\documents\\github\\algo\\env\\lib\\site-packages (from ipykernel) (7.4.8)\n",
      "Requirement already satisfied: packaging in c:\\users\\shive\\documents\\github\\algo\\env\\lib\\site-packages (from ipykernel) (22.0)\n",
      "Requirement already satisfied: comm>=0.1.1 in c:\\users\\shive\\documents\\github\\algo\\env\\lib\\site-packages (from ipykernel) (0.1.2)\n",
      "Requirement already satisfied: psutil in c:\\users\\shive\\documents\\github\\algo\\env\\lib\\site-packages (from ipykernel) (5.9.4)\n",
      "Requirement already satisfied: tornado>=6.1 in c:\\users\\shive\\documents\\github\\algo\\env\\lib\\site-packages (from ipykernel) (6.2)\n",
      "Requirement already satisfied: ipython>=7.23.1 in c:\\users\\shive\\documents\\github\\algo\\env\\lib\\site-packages (from ipykernel) (8.8.0)\n",
      "Requirement already satisfied: pyzmq>=17 in c:\\users\\shive\\documents\\github\\algo\\env\\lib\\site-packages (from ipykernel) (24.0.1)\n",
      "Requirement already satisfied: matplotlib-inline>=0.1 in c:\\users\\shive\\documents\\github\\algo\\env\\lib\\site-packages (from ipykernel) (0.1.6)\n",
      "Requirement already satisfied: decorator in c:\\users\\shive\\documents\\github\\algo\\env\\lib\\site-packages (from ipython>=7.23.1->ipykernel) (5.1.1)\n",
      "Requirement already satisfied: pygments>=2.4.0 in c:\\users\\shive\\documents\\github\\algo\\env\\lib\\site-packages (from ipython>=7.23.1->ipykernel) (2.14.0)\n",
      "Requirement already satisfied: backcall in c:\\users\\shive\\documents\\github\\algo\\env\\lib\\site-packages (from ipython>=7.23.1->ipykernel) (0.2.0)\n",
      "Requirement already satisfied: pickleshare in c:\\users\\shive\\documents\\github\\algo\\env\\lib\\site-packages (from ipython>=7.23.1->ipykernel) (0.7.5)\n",
      "Requirement already satisfied: colorama in c:\\users\\shive\\documents\\github\\algo\\env\\lib\\site-packages (from ipython>=7.23.1->ipykernel) (0.4.6)\n",
      "Requirement already satisfied: jedi>=0.16 in c:\\users\\shive\\documents\\github\\algo\\env\\lib\\site-packages (from ipython>=7.23.1->ipykernel) (0.18.2)\n",
      "Requirement already satisfied: prompt-toolkit<3.1.0,>=3.0.11 in c:\\users\\shive\\documents\\github\\algo\\env\\lib\\site-packages (from ipython>=7.23.1->ipykernel) (3.0.36)\n",
      "Requirement already satisfied: stack-data in c:\\users\\shive\\documents\\github\\algo\\env\\lib\\site-packages (from ipython>=7.23.1->ipykernel) (0.6.2)\n",
      "Requirement already satisfied: parso<0.9.0,>=0.8.0 in c:\\users\\shive\\documents\\github\\algo\\env\\lib\\site-packages (from jedi>=0.16->ipython>=7.23.1->ipykernel) (0.8.3)\n",
      "Requirement already satisfied: jupyter-core>=4.9.2 in c:\\users\\shive\\documents\\github\\algo\\env\\lib\\site-packages (from jupyter-client>=6.1.12->ipykernel) (5.1.2)\n",
      "Requirement already satisfied: python-dateutil>=2.8.2 in c:\\users\\shive\\documents\\github\\algo\\env\\lib\\site-packages (from jupyter-client>=6.1.12->ipykernel) (2.8.2)\n",
      "Requirement already satisfied: entrypoints in c:\\users\\shive\\documents\\github\\algo\\env\\lib\\site-packages (from jupyter-client>=6.1.12->ipykernel) (0.4)\n",
      "Requirement already satisfied: platformdirs>=2.5 in c:\\users\\shive\\documents\\github\\algo\\env\\lib\\site-packages (from jupyter-core>=4.9.2->jupyter-client>=6.1.12->ipykernel) (2.6.2)\n",
      "Requirement already satisfied: pywin32>=1.0 in c:\\users\\shive\\documents\\github\\algo\\env\\lib\\site-packages (from jupyter-core>=4.9.2->jupyter-client>=6.1.12->ipykernel) (305)\n",
      "Requirement already satisfied: wcwidth in c:\\users\\shive\\documents\\github\\algo\\env\\lib\\site-packages (from prompt-toolkit<3.1.0,>=3.0.11->ipython>=7.23.1->ipykernel) (0.2.5)\n",
      "Requirement already satisfied: six>=1.5 in c:\\users\\shive\\documents\\github\\algo\\env\\lib\\site-packages (from python-dateutil>=2.8.2->jupyter-client>=6.1.12->ipykernel) (1.16.0)\n",
      "Requirement already satisfied: asttokens>=2.1.0 in c:\\users\\shive\\documents\\github\\algo\\env\\lib\\site-packages (from stack-data->ipython>=7.23.1->ipykernel) (2.2.1)\n",
      "Requirement already satisfied: executing>=1.2.0 in c:\\users\\shive\\documents\\github\\algo\\env\\lib\\site-packages (from stack-data->ipython>=7.23.1->ipykernel) (1.2.0)\n",
      "Requirement already satisfied: pure-eval in c:\\users\\shive\\documents\\github\\algo\\env\\lib\\site-packages (from stack-data->ipython>=7.23.1->ipykernel) (0.2.2)\n"
     ]
    },
    {
     "name": "stderr",
     "output_type": "stream",
     "text": [
      "WARNING: You are using pip version 21.2.3; however, version 22.3.1 is available.\n",
      "You should consider upgrading via the 'C:\\Users\\shive\\Documents\\GitHub\\Algo\\env\\Scripts\\python.exe -m pip install --upgrade pip' command.\n"
     ]
    }
   ],
   "source": [
    "# Loading datasets \n",
    "!pip install ipykernel\n",
    "movies_data = pd.read_csv(\"movies_metadata.csv\", low_memory=False)\n",
    "credits = pd.read_csv('credits.csv')\n",
    "keywords = pd.read_csv('keywords.csv')\n",
    "links_small = pd.read_csv('links_small.csv')\n",
    "ratings = pd.read_csv(\"ratings_small.csv\")"
   ]
  },
  {
   "cell_type": "code",
   "execution_count": 5,
   "id": "f9ed4263",
   "metadata": {},
   "outputs": [
    {
     "data": {
      "text/html": [
       "<div>\n",
       "<style scoped>\n",
       "    .dataframe tbody tr th:only-of-type {\n",
       "        vertical-align: middle;\n",
       "    }\n",
       "\n",
       "    .dataframe tbody tr th {\n",
       "        vertical-align: top;\n",
       "    }\n",
       "\n",
       "    .dataframe thead th {\n",
       "        text-align: right;\n",
       "    }\n",
       "</style>\n",
       "<table border=\"1\" class=\"dataframe\">\n",
       "  <thead>\n",
       "    <tr style=\"text-align: right;\">\n",
       "      <th></th>\n",
       "      <th>userId</th>\n",
       "      <th>movieId</th>\n",
       "      <th>rating</th>\n",
       "      <th>timestamp</th>\n",
       "    </tr>\n",
       "  </thead>\n",
       "  <tbody>\n",
       "    <tr>\n",
       "      <th>0</th>\n",
       "      <td>1</td>\n",
       "      <td>31</td>\n",
       "      <td>2.5</td>\n",
       "      <td>1260759144</td>\n",
       "    </tr>\n",
       "    <tr>\n",
       "      <th>1</th>\n",
       "      <td>1</td>\n",
       "      <td>1029</td>\n",
       "      <td>3.0</td>\n",
       "      <td>1260759179</td>\n",
       "    </tr>\n",
       "    <tr>\n",
       "      <th>2</th>\n",
       "      <td>1</td>\n",
       "      <td>1061</td>\n",
       "      <td>3.0</td>\n",
       "      <td>1260759182</td>\n",
       "    </tr>\n",
       "    <tr>\n",
       "      <th>3</th>\n",
       "      <td>1</td>\n",
       "      <td>1129</td>\n",
       "      <td>2.0</td>\n",
       "      <td>1260759185</td>\n",
       "    </tr>\n",
       "    <tr>\n",
       "      <th>4</th>\n",
       "      <td>1</td>\n",
       "      <td>1172</td>\n",
       "      <td>4.0</td>\n",
       "      <td>1260759205</td>\n",
       "    </tr>\n",
       "  </tbody>\n",
       "</table>\n",
       "</div>"
      ],
      "text/plain": [
       "   userId  movieId  rating   timestamp\n",
       "0       1       31     2.5  1260759144\n",
       "1       1     1029     3.0  1260759179\n",
       "2       1     1061     3.0  1260759182\n",
       "3       1     1129     2.0  1260759185\n",
       "4       1     1172     4.0  1260759205"
      ]
     },
     "execution_count": 5,
     "metadata": {},
     "output_type": "execute_result"
    }
   ],
   "source": [
    "ratings.head()"
   ]
  },
  {
   "cell_type": "code",
   "execution_count": 6,
   "id": "056ec34e",
   "metadata": {},
   "outputs": [
    {
     "data": {
      "text/plain": [
       "userId       0\n",
       "movieId      0\n",
       "rating       0\n",
       "timestamp    0\n",
       "dtype: int64"
      ]
     },
     "execution_count": 6,
     "metadata": {},
     "output_type": "execute_result"
    }
   ],
   "source": [
    "ratings.isnull().sum()"
   ]
  },
  {
   "cell_type": "code",
   "execution_count": 7,
   "id": "7b02a4f9",
   "metadata": {},
   "outputs": [],
   "source": [
    "# drop the timestamp column since we dont need it now\n",
    "ratings = ratings.drop(columns=\"timestamp\")"
   ]
  },
  {
   "cell_type": "code",
   "execution_count": 8,
   "id": "19aca945",
   "metadata": {},
   "outputs": [],
   "source": [
    "# fig = px.histogram(ratings, x=\"rating\")\n",
    "# fig.show()"
   ]
  },
  {
   "cell_type": "code",
   "execution_count": 9,
   "id": "e3ca2335",
   "metadata": {},
   "outputs": [],
   "source": [
    "# create reader from surprise \n",
    "# the rating should lie in the provided scale\n",
    "reader = Reader(rating_scale =(0.5,5))"
   ]
  },
  {
   "cell_type": "code",
   "execution_count": null,
   "id": "0d1945b4",
   "metadata": {},
   "outputs": [],
   "source": []
  },
  {
   "cell_type": "code",
   "execution_count": 10,
   "id": "844b92c2",
   "metadata": {},
   "outputs": [],
   "source": [
    "data = Dataset.load_from_df(ratings[['userId','movieId','rating']], reader)"
   ]
  },
  {
   "cell_type": "code",
   "execution_count": 11,
   "id": "dc981adf",
   "metadata": {},
   "outputs": [
    {
     "name": "stdout",
     "output_type": "stream",
     "text": [
      "<surprise.dataset.DatasetAutoFolds object at 0x0000018C7A0720A0>\n"
     ]
    }
   ],
   "source": [
    "print(data)"
   ]
  },
  {
   "cell_type": "code",
   "execution_count": 12,
   "id": "553106ad",
   "metadata": {},
   "outputs": [],
   "source": [
    "from surprise import KNNWithMeans\n",
    "from surprise import Dataset\n",
    "from surprise.model_selection import GridSearchCV"
   ]
  },
  {
   "cell_type": "code",
   "execution_count": 13,
   "id": "019651d3",
   "metadata": {},
   "outputs": [],
   "source": [
    "# create trainset ie the data which is present (ratings of those movies which are rated by respective users)\n",
    "trainset = data.build_full_trainset()\n",
    "\n",
    "# create testset, here the anti_testset is testset\n",
    "# data containing users movie pairs which are not rated by that particular user\n",
    "testset = trainset.build_anti_testset()"
   ]
  },
  {
   "cell_type": "code",
   "execution_count": 14,
   "id": "076f34b3",
   "metadata": {},
   "outputs": [],
   "source": [
    "sim_options = {\n",
    "    \"name\": [\"msd\", \"cosine\",'pearson_baseline'],\n",
    "    \"min_support\": [3, 4, 5],\n",
    "    \"user_based\": [False, True],\n",
    "}\n",
    "param_grid = {\"sim_options\": sim_options}\n",
    "\n",
    "\n",
    "gs = GridSearchCV(KNNWithMeans, param_grid, measures=[\"rmse\", \"mae\"], cv=3)"
   ]
  },
  {
   "cell_type": "code",
   "execution_count": 15,
   "id": "e60edbeb",
   "metadata": {},
   "outputs": [
    {
     "name": "stdout",
     "output_type": "stream",
     "text": [
      "Computing the msd similarity matrix...\n",
      "Done computing similarity matrix.\n",
      "Computing the msd similarity matrix...\n",
      "Done computing similarity matrix.\n",
      "Computing the msd similarity matrix...\n",
      "Done computing similarity matrix.\n",
      "Computing the msd similarity matrix...\n",
      "Done computing similarity matrix.\n",
      "Computing the msd similarity matrix...\n",
      "Done computing similarity matrix.\n",
      "Computing the msd similarity matrix...\n",
      "Done computing similarity matrix.\n",
      "Computing the msd similarity matrix...\n",
      "Done computing similarity matrix.\n",
      "Computing the msd similarity matrix...\n",
      "Done computing similarity matrix.\n",
      "Computing the msd similarity matrix...\n",
      "Done computing similarity matrix.\n",
      "Computing the msd similarity matrix...\n",
      "Done computing similarity matrix.\n",
      "Computing the msd similarity matrix...\n",
      "Done computing similarity matrix.\n",
      "Computing the msd similarity matrix...\n",
      "Done computing similarity matrix.\n",
      "Computing the msd similarity matrix...\n",
      "Done computing similarity matrix.\n",
      "Computing the msd similarity matrix...\n",
      "Done computing similarity matrix.\n",
      "Computing the msd similarity matrix...\n",
      "Done computing similarity matrix.\n",
      "Computing the msd similarity matrix...\n",
      "Done computing similarity matrix.\n",
      "Computing the msd similarity matrix...\n",
      "Done computing similarity matrix.\n",
      "Computing the msd similarity matrix...\n",
      "Done computing similarity matrix.\n",
      "Computing the cosine similarity matrix...\n",
      "Done computing similarity matrix.\n",
      "Computing the cosine similarity matrix...\n",
      "Done computing similarity matrix.\n",
      "Computing the cosine similarity matrix...\n",
      "Done computing similarity matrix.\n",
      "Computing the cosine similarity matrix...\n",
      "Done computing similarity matrix.\n",
      "Computing the cosine similarity matrix...\n",
      "Done computing similarity matrix.\n",
      "Computing the cosine similarity matrix...\n",
      "Done computing similarity matrix.\n",
      "Computing the cosine similarity matrix...\n",
      "Done computing similarity matrix.\n",
      "Computing the cosine similarity matrix...\n",
      "Done computing similarity matrix.\n",
      "Computing the cosine similarity matrix...\n",
      "Done computing similarity matrix.\n",
      "Computing the cosine similarity matrix...\n",
      "Done computing similarity matrix.\n",
      "Computing the cosine similarity matrix...\n",
      "Done computing similarity matrix.\n",
      "Computing the cosine similarity matrix...\n",
      "Done computing similarity matrix.\n",
      "Computing the cosine similarity matrix...\n",
      "Done computing similarity matrix.\n",
      "Computing the cosine similarity matrix...\n",
      "Done computing similarity matrix.\n",
      "Computing the cosine similarity matrix...\n",
      "Done computing similarity matrix.\n",
      "Computing the cosine similarity matrix...\n",
      "Done computing similarity matrix.\n",
      "Computing the cosine similarity matrix...\n",
      "Done computing similarity matrix.\n",
      "Computing the cosine similarity matrix...\n",
      "Done computing similarity matrix.\n",
      "Estimating biases using als...\n",
      "Computing the pearson_baseline similarity matrix...\n",
      "Done computing similarity matrix.\n",
      "Estimating biases using als...\n",
      "Computing the pearson_baseline similarity matrix...\n",
      "Done computing similarity matrix.\n",
      "Estimating biases using als...\n",
      "Computing the pearson_baseline similarity matrix...\n",
      "Done computing similarity matrix.\n",
      "Estimating biases using als...\n",
      "Computing the pearson_baseline similarity matrix...\n",
      "Done computing similarity matrix.\n",
      "Estimating biases using als...\n",
      "Computing the pearson_baseline similarity matrix...\n",
      "Done computing similarity matrix.\n",
      "Estimating biases using als...\n",
      "Computing the pearson_baseline similarity matrix...\n",
      "Done computing similarity matrix.\n",
      "Estimating biases using als...\n",
      "Computing the pearson_baseline similarity matrix...\n",
      "Done computing similarity matrix.\n",
      "Estimating biases using als...\n",
      "Computing the pearson_baseline similarity matrix...\n",
      "Done computing similarity matrix.\n",
      "Estimating biases using als...\n",
      "Computing the pearson_baseline similarity matrix...\n",
      "Done computing similarity matrix.\n",
      "Estimating biases using als...\n",
      "Computing the pearson_baseline similarity matrix...\n",
      "Done computing similarity matrix.\n",
      "Estimating biases using als...\n",
      "Computing the pearson_baseline similarity matrix...\n",
      "Done computing similarity matrix.\n",
      "Estimating biases using als...\n",
      "Computing the pearson_baseline similarity matrix...\n",
      "Done computing similarity matrix.\n",
      "Estimating biases using als...\n",
      "Computing the pearson_baseline similarity matrix...\n",
      "Done computing similarity matrix.\n",
      "Estimating biases using als...\n",
      "Computing the pearson_baseline similarity matrix...\n",
      "Done computing similarity matrix.\n",
      "Estimating biases using als...\n",
      "Computing the pearson_baseline similarity matrix...\n",
      "Done computing similarity matrix.\n",
      "Estimating biases using als...\n",
      "Computing the pearson_baseline similarity matrix...\n",
      "Done computing similarity matrix.\n",
      "Estimating biases using als...\n",
      "Computing the pearson_baseline similarity matrix...\n",
      "Done computing similarity matrix.\n",
      "Estimating biases using als...\n",
      "Computing the pearson_baseline similarity matrix...\n",
      "Done computing similarity matrix.\n"
     ]
    }
   ],
   "source": [
    "gs.fit(data)"
   ]
  },
  {
   "cell_type": "code",
   "execution_count": 16,
   "id": "8e39184c",
   "metadata": {},
   "outputs": [
    {
     "name": "stdout",
     "output_type": "stream",
     "text": [
      "0.9287261868332903\n",
      "{'sim_options': {'name': 'msd', 'min_support': 3, 'user_based': True}}\n"
     ]
    }
   ],
   "source": [
    "print(gs.best_score[\"rmse\"])\n",
    "print(gs.best_params[\"rmse\"])"
   ]
  },
  {
   "cell_type": "code",
   "execution_count": 17,
   "id": "7629c7da",
   "metadata": {},
   "outputs": [],
   "source": [
    "params=gs.best_params['rmse']\n",
    "model=KNNWithMeans(sim_options=params['sim_options'],n_epochs=10)"
   ]
  },
  {
   "cell_type": "code",
   "execution_count": 18,
   "id": "1e3141db",
   "metadata": {},
   "outputs": [
    {
     "name": "stdout",
     "output_type": "stream",
     "text": [
      "Computing the msd similarity matrix...\n",
      "Done computing similarity matrix.\n",
      "Computing the msd similarity matrix...\n",
      "Done computing similarity matrix.\n",
      "Computing the msd similarity matrix...\n",
      "Done computing similarity matrix.\n",
      "Computing the msd similarity matrix...\n",
      "Done computing similarity matrix.\n",
      "Computing the msd similarity matrix...\n",
      "Done computing similarity matrix.\n",
      "Training Done\n"
     ]
    }
   ],
   "source": [
    "cross_validate(model, data, measures=['RMSE','MAE'], cv= 5)\n",
    "print('Training Done')\n",
    "\n",
    "#prediction\n",
    "prediction = model.test(testset)"
   ]
  },
  {
   "cell_type": "code",
   "execution_count": 19,
   "id": "73d170c5",
   "metadata": {},
   "outputs": [],
   "source": [
    "example = { 'userId' : [99999,99999,99999,99999,99999],\n",
    "           'movieId' : [31,1029,1293,1172,1343],\n",
    "           'rating'  : [3.0, 4.5, 1.2, 3.3,2]\n",
    "    \n",
    "}\n",
    "\n",
    "df = pd.DataFrame(example)\n",
    "frames = [ratings, df]\n",
    "result = pd.concat(frames)"
   ]
  },
  {
   "cell_type": "code",
   "execution_count": 20,
   "id": "f9e74732",
   "metadata": {},
   "outputs": [],
   "source": [
    "# Removing the rows with null value in the vote_average and vote_count columns in movies_data dataframe\n",
    "\n",
    "movies_data = movies_data.dropna(subset=['vote_average', 'vote_count'])\n",
    "#Preprocessing the data\n",
    "\n",
    "movies_data['id'] = movies_data['id'].astype('int')\n",
    "# merging both credits and keywords in movies_data on the basis of movie id\n",
    "movies_data = movies_data.merge(credits, on='id')\n",
    "movies_data = movies_data.merge(keywords, on='id')"
   ]
  },
  {
   "cell_type": "code",
   "execution_count": 21,
   "id": "6d951baf",
   "metadata": {},
   "outputs": [
    {
     "name": "stdout",
     "output_type": "stream",
     "text": [
      "Computing the msd similarity matrix...\n",
      "Done computing similarity matrix.\n",
      "Computing the msd similarity matrix...\n",
      "Done computing similarity matrix.\n",
      "Computing the msd similarity matrix...\n",
      "Done computing similarity matrix.\n",
      "Computing the msd similarity matrix...\n",
      "Done computing similarity matrix.\n",
      "Computing the msd similarity matrix...\n",
      "Done computing similarity matrix.\n",
      "Training Done\n"
     ]
    },
    {
     "data": {
      "text/plain": [
       "Prediction(uid=12, iid=4344, r_ui=3.5435710786029255, est=2.242729281641224, details={'actual_k': 24, 'was_impossible': False})"
      ]
     },
     "execution_count": 21,
     "metadata": {},
     "output_type": "execute_result"
    }
   ],
   "source": [
    "columns = ['userId','movieId','rating']\n",
    "#create dataset from dataframe\n",
    "data= Dataset.load_from_df(result[columns],reader)\n",
    "\n",
    "#create trainset\n",
    "trainset= data.build_full_trainset()\n",
    "\n",
    "#create testset, here the anti_testset is testset\n",
    "testset = trainset.build_anti_testset()\n",
    "\n",
    "cross_validate(model,data, measures=['RMSE','MAE'], cv= 5) #cv is the number of parts in which data will be divided.\n",
    "print('Training Done')\n",
    "\n",
    "#prediction\n",
    "prediction = model.test(testset)\n",
    "prediction[99999]"
   ]
  },
  {
   "cell_type": "code",
   "execution_count": 22,
   "id": "c34a1ed9",
   "metadata": {},
   "outputs": [],
   "source": [
    "def get_top_n(prediction, n):\n",
    "    \n",
    "    '''\n",
    "    This function recommend users with top n movies based on prediction calculated using the surprise library\n",
    "    \n",
    "    Parameters: prediction(list): This contains (user, movie) rating prediction for all user movie pairs\n",
    "                n(int): Number of recommendations\n",
    "    \n",
    "    Results: Returns top 30 movies along with movie id for all users\n",
    "    \n",
    "    \n",
    "    '''\n",
    "\n",
    "    # First map the predictions to each user.\n",
    "    top_n = defaultdict(list)\n",
    "    for uid, iid, true_r, est, _ in prediction: \n",
    "        top_n[uid].append((iid, est))\n",
    "\n",
    "    # Then sort the predictions for each user and retrieve the n highest ones.\n",
    "    for uid, user_ratings in top_n.items():\n",
    "        user_ratings.sort(key=lambda x: x[1], reverse=True)\n",
    "        top_n[uid] = user_ratings[:n]\n",
    "\n",
    "    return top_n\n",
    "\n",
    "rcmnd = []\n",
    "top_n = get_top_n(prediction, n=30)\n",
    "for uid, user_ratings in top_n.items():\n",
    "    if uid == 99999:\n",
    "        for (iid,rating) in user_ratings:\n",
    "            for i in range(movies_data.shape[0]):\n",
    "                if movies_data['id'][i] == iid:\n",
    "                    rcmnd.append([movies_data['id'][i],movies_data['title'][i]])\n",
    "        break"
   ]
  },
  {
   "cell_type": "code",
   "execution_count": 23,
   "id": "67f9a78a",
   "metadata": {},
   "outputs": [
    {
     "data": {
      "text/plain": [
       "[[1371, 'Rocky III'],\n",
       " [1405, 'Greed'],\n",
       " [2105, 'American Pie'],\n",
       " [2193, 'My Tutor'],\n",
       " [2294, 'Jay and Silent Bob Strike Back'],\n",
       " [2455, 'Confidentially Yours'],\n",
       " [17, 'The Dark'],\n",
       " [62, '2001: A Space Odyssey'],\n",
       " [110, 'Three Colors: Red'],\n",
       " [144, 'Wings of Desire']]"
      ]
     },
     "execution_count": 23,
     "metadata": {},
     "output_type": "execute_result"
    }
   ],
   "source": [
    "rcmnd[:10]"
   ]
  },
  {
   "cell_type": "code",
   "execution_count": 24,
   "id": "611074a2",
   "metadata": {},
   "outputs": [],
   "source": [
    "# Tinkter"
   ]
  },
  {
   "cell_type": "code",
   "execution_count": 25,
   "id": "fae1ba8b",
   "metadata": {},
   "outputs": [],
   "source": [
    "import tkinter as tk\n",
    "import pickle\n",
    "import bz2\n",
    "import _pickle as cPickle\n",
    "with open('movie_list.pkl', 'rb') as f:\n",
    "    df = pickle.load(f)\n",
    "\n",
    "with open('final_prediction_list.pkl', 'rb') as f:\n",
    "    final_prediction_list = pickle.load(f)\n",
    "l2 = [None for i in range(10)]\n",
    "def recommend(movie,n=5):\n",
    "    \n",
    "    for i in range(10):\n",
    "        if l2[i] is not None:\n",
    "            l2[i].grid_remove()\n",
    "    try:\n",
    "        index = df[df['original_title'] == movie.lower()].index[0]\n",
    "        for i in range(n):\n",
    "            moive_index=final_prediction_list[index][i]\n",
    "            movie_name=df['original_title'][moive_index]\n",
    "            print(df['original_title'][moive_index])\n",
    "            l2[i] = Label(root ,  text = movie_name)\n",
    "            l2[i].grid(row = 2+i, column = 6, sticky = W, pady = 5)       \n",
    "    except Exception as e:\n",
    "        print(e)\n",
    "        print(\"Movie Not in Database\")"
   ]
  },
  {
   "cell_type": "code",
   "execution_count": 26,
   "id": "c4feb279",
   "metadata": {},
   "outputs": [],
   "source": [
    "import tkinter as tk\n",
    "import tkinter.ttk\n",
    "from tkinter import *\n",
    "import tkinter.messagebox"
   ]
  },
  {
   "cell_type": "code",
   "execution_count": 27,
   "id": "00974f65",
   "metadata": {},
   "outputs": [],
   "source": [
    "\n",
    "l = [None for i in range(10)]\n",
    "\n",
    "def genre_based():\n",
    "    '''\n",
    "       Callback function used for the submit button on the interface\n",
    "\n",
    "       This function takes input directly from the Tkinter interface and based on the type of input provided it finds recommendation for the user and provide output on the Tkinter interface.\n",
    "\n",
    "       Parameters: None\n",
    "\n",
    "       Returns: None \n",
    "\n",
    "    ''' \n",
    "\n",
    "    for i in range(10):\n",
    "        if l[i] is not None:\n",
    "            l[i].grid_remove()\n",
    "    event = \"Select\"\n",
    "\n",
    "    # produced recommendations for the user based on the rating provided to selected movies if no genre is selected else recommend top movies from the selected genres\n",
    "    if event == \"Select\":\n",
    "        rtts = list()\n",
    "        rtts.append(l11.get())\n",
    "        rtts.append(l12.get())\n",
    "        rtts.append(l13.get())\n",
    "        rtts.append(l14.get())\n",
    "        rtts.append(l15.get())\n",
    "        movie_ratings = [int(i) for i in rtts]\n",
    "        print(movie_ratings)\n",
    "        \n",
    "        example = { 'userId' : [99999,99999,99999,99999,99999],\n",
    "           'movieId' : [278, 13,637,122, 11],\n",
    "           'rating'  : movie_ratings,\n",
    "                  }\n",
    "        \n",
    "        df = pd.DataFrame(example)\n",
    "        frames = [ratings, df]\n",
    "        result = pd.concat(frames)\n",
    "        \n",
    "        #create dataset from dataframe\n",
    "        data= Dataset.load_from_df(result[columns],reader)\n",
    "\n",
    "        #create trainset\n",
    "        trainset= data.build_full_trainset()\n",
    "\n",
    "        #create testset, here the anti_testset is testset\n",
    "        testset = trainset.build_anti_testset()\n",
    "\n",
    "        cross_validate(model,data, measures=['RMSE','MAE'], cv= 5, verbose= True)\n",
    "        print('Training Done')\n",
    "\n",
    "        #prediction\n",
    "        prediction = model.test(testset)\n",
    "        prediction[99999]\n",
    "\n",
    "        from collections import defaultdict\n",
    "        def get_top_n(prediction, n):\n",
    "\n",
    "            # First map the predictions to each user.\n",
    "            top_n = defaultdict(list)\n",
    "            for uid, iid, true_r, est, _ in prediction:\n",
    "                top_n[uid].append((iid, est))\n",
    "\n",
    "            # Then sort the predictions for each user and retrieve the n highest ones.\n",
    "            for uid, user_ratings in top_n.items():\n",
    "                user_ratings.sort(key=lambda x: x[1], reverse=True)\n",
    "                top_n[uid] = user_ratings[:n]\n",
    "\n",
    "            return top_n\n",
    "\n",
    "        rcmnd = []\n",
    "        top_n = get_top_n(prediction, n=30)\n",
    "        for uid, user_ratings in top_n.items():\n",
    "            if uid == 99999:\n",
    "                for (iid,rating) in user_ratings:\n",
    "                    for i in range(movies_data.shape[0]):\n",
    "                        if movies_data['id'][i] == iid:\n",
    "                            rcmnd.append([movies_data['id'][i],movies_data['title'][i]])\n",
    "                break\n",
    "    \n",
    "        for i in range(min(10,len(rcmnd))):\n",
    "            l[i] = Label(root ,  text = rcmnd[i][1])\n",
    "            l[i].grid(row = 2+i, column = 5, sticky = W, pady = 5)                "
   ]
  },
  {
   "cell_type": "code",
   "execution_count": 28,
   "id": "05d614ff",
   "metadata": {},
   "outputs": [
    {
     "name": "stdout",
     "output_type": "stream",
     "text": [
      "         id                       title\n",
      "0       949                        Heat\n",
      "1       710                   GoldenEye\n",
      "2      1408            Cutthroat Island\n",
      "3       524                      Casino\n",
      "4      4584       Sense and Sensibility\n",
      "...     ...                         ...\n",
      "2843  80831                Sang Pemimpi\n",
      "2844   3104  Frankenstein Created Woman\n",
      "2845  64197        Travelling with Pets\n",
      "2846  98604                  Cinderella\n",
      "2847  49280            The One-Man Band\n",
      "\n",
      "[2848 rows x 2 columns]\n"
     ]
    },
    {
     "data": {
      "text/plain": [
       "'GoldenEye'"
      ]
     },
     "execution_count": 28,
     "metadata": {},
     "output_type": "execute_result"
    }
   ],
   "source": [
    "# temp dataframe contains movies which are present in both ratings and movies_data dataframe\n",
    "\n",
    "id_list = list(ratings['movieId'])\n",
    "temp = movies_data.loc[movies_data['id'].isin(id_list)]\n",
    "temp = temp.reset_index()\n",
    "print(temp[['id' , 'title']])\n",
    "temp['title'][1]"
   ]
  },
  {
   "cell_type": "code",
   "execution_count": 29,
   "id": "4faeb367",
   "metadata": {},
   "outputs": [
    {
     "data": {
      "text/plain": [
       "''"
      ]
     },
     "execution_count": 29,
     "metadata": {},
     "output_type": "execute_result"
    }
   ],
   "source": [
    "\n",
    "\n",
    "# create root window\n",
    "root = Tk()\n",
    "\n",
    "# root window title and dimension4\n",
    "root.title(\"AZ Movie Recommender System\")\n",
    "\n",
    "# Set geometry (widthxheight)\n",
    "root.geometry('700x400')"
   ]
  },
  {
   "cell_type": "code",
   "execution_count": 30,
   "id": "3a2e3221",
   "metadata": {},
   "outputs": [],
   "source": [
    "\n",
    "# adding a label to the root window\n",
    "l1 = Label(root, text = \"MOVIE RECOMMENDER SYSTEM\", fg = \"blue\")\n",
    "l1.grid(row = 0,column = 3)\n",
    "\n",
    "# datatype of menu text\n",
    "clicked = StringVar()\n",
    "\n",
    "# initial menu text\n",
    "clicked.set( \"Select Genre\" )\n",
    "\n",
    "\n",
    "l3 = Label(root, text = \"Rate the following movies\")\n",
    "l3.grid(row = 1,column = 2,sticky = W, pady = 2)\n",
    "\n",
    "# labels for movies name\n",
    "l4 = Label(root, text=\"Movies Name\").grid(row=2, column=2)\n",
    "l5 = Label(root, text=\"the shawshank redemption\").grid(row=3, column=2) # 278\n",
    "l6 = Label(root, text=\"Cutthroat Island\").grid(row=4, column=2) # 13\n",
    "l7 = Label(root, text=\"life is beautiful\").grid(row=5, column=2) #637\n",
    "l8 = Label(root, text=\"The One-Man Band\").grid(row=6, column=2) #122\n",
    "l9 = Label(root, text=\"star wars\").grid(row=7, column=2) # 11\n",
    "\n",
    "# label for movies rating\n",
    "l10 = Label(root, text=\"Rate the movie on the scale of 5\").grid(row=2, column=3)\n",
    "l11 = Spinbox(root, from_= 0, to = 5)\n",
    "l11.grid(row=3, column=3)\n",
    "l12 = Spinbox(root, from_= 0, to = 5)\n",
    "l12.grid(row=4, column=3)\n",
    "l13= Spinbox(root, from_= 0, to = 5)\n",
    "l13.grid(row=5, column=3)\n",
    "l14 = Spinbox(root, from_= 0, to = 5)\n",
    "l14.grid(row=6, column=3)\n",
    "l15 = Spinbox(root, from_= 0, to = 5)\n",
    "l15.grid(row=7, column=3)\n",
    "\n",
    "\n",
    "# button widget with green color text\n",
    "button = Button(root, text = \"SUBMIT\" , fg = \"white\",bg = \"green\", command = genre_based)\n",
    "button.grid(row = 10,column = 3, sticky = S)\n",
    "\n",
    "# Creating seperators for better UI \n",
    "x2 = tkinter.ttk.Separator(root, orient=VERTICAL).grid(column=4, row=1, rowspan=12, sticky='ns')\n",
    "\n",
    "l16 = Label(root, text=\"Results\").grid(row=1, column= 5, sticky = W, pady=10)\n",
    "\n",
    "\n"
   ]
  },
  {
   "cell_type": "code",
   "execution_count": 31,
   "id": "8f5a45fc",
   "metadata": {},
   "outputs": [
    {
     "name": "stdout",
     "output_type": "stream",
     "text": [
      "[3, 3, 4, 4, 4]\n",
      "Computing the msd similarity matrix...\n",
      "Done computing similarity matrix.\n",
      "Computing the msd similarity matrix...\n",
      "Done computing similarity matrix.\n",
      "Computing the msd similarity matrix...\n",
      "Done computing similarity matrix.\n",
      "Computing the msd similarity matrix...\n",
      "Done computing similarity matrix.\n",
      "Computing the msd similarity matrix...\n",
      "Done computing similarity matrix.\n",
      "Evaluating RMSE, MAE of algorithm KNNWithMeans on 5 split(s).\n",
      "\n",
      "                  Fold 1  Fold 2  Fold 3  Fold 4  Fold 5  Mean    Std     \n",
      "RMSE (testset)    0.9208  0.9206  0.9144  0.9179  0.9214  0.9190  0.0026  \n",
      "MAE (testset)     0.7047  0.7036  0.7005  0.7000  0.7064  0.7030  0.0024  \n",
      "Fit time          0.17    0.17    0.25    0.27    0.25    0.22    0.04    \n",
      "Test time         1.08    1.07    1.37    1.27    1.27    1.21    0.12    \n",
      "Training Done\n"
     ]
    }
   ],
   "source": [
    "# start the program\n",
    "root.mainloop()"
   ]
  },
  {
   "cell_type": "code",
   "execution_count": null,
   "id": "ef61f92c",
   "metadata": {},
   "outputs": [],
   "source": []
  }
 ],
 "metadata": {
  "kernelspec": {
   "display_name": "Python 3 (ipykernel)",
   "language": "python",
   "name": "python3"
  },
  "language_info": {
   "codemirror_mode": {
    "name": "ipython",
    "version": 3
   },
   "file_extension": ".py",
   "mimetype": "text/x-python",
   "name": "python",
   "nbconvert_exporter": "python",
   "pygments_lexer": "ipython3",
   "version": "3.9.7"
  },
  "vscode": {
   "interpreter": {
    "hash": "64d7017cd69c437086b0cf0bba62bd05a42385fb2387b795b8fde0c1a2966e25"
   }
  }
 },
 "nbformat": 4,
 "nbformat_minor": 5
}
